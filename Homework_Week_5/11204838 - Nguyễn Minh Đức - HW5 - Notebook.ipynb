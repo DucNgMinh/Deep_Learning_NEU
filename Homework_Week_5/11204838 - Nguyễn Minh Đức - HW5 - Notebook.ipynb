{
  "cells": [
    {
      "cell_type": "code",
      "execution_count": 1,
      "metadata": {
        "id": "ZLogRJY9ax1x"
      },
      "outputs": [],
      "source": [
        "import torch\n",
        "import torch.nn as nn\n",
        "import torchvision\n",
        "from torch.utils.data import DataLoader, random_split\n",
        "import torch.optim as optim\n",
        "from torchvision import datasets, transforms\n",
        "from torch.autograd import Variable\n",
        "import matplotlib.pyplot as plt\n",
        "import numpy as np\n",
        "import pandas as pd\n",
        "\n",
        "device = torch.device('cuda' if torch.cuda.is_available() else 'cpu')"
      ]
    },
    {
      "cell_type": "code",
      "source": [
        "def trans_conv(X, K):\n",
        "    h, w = K.shape\n",
        "    Y = torch.zeros((X.shape[0] + h - 1, X.shape[1] + w - 1))\n",
        "    for i in range(X.shape[0]):\n",
        "        for j in range(X.shape[1]):\n",
        "            Y[i: i + h, j: j + w] += X[i, j] * K\n",
        "    return Y\n",
        "\n",
        "X = torch.tensor([[0.0, 1.0], [2.0, 3.0]])\n",
        "K = torch.tensor([[0.0, 1.0], [2.0, 3.0]])\n",
        "trans_conv(X, K)"
      ],
      "metadata": {
        "colab": {
          "base_uri": "https://localhost:8080/"
        },
        "id": "tppZarUVjr8N",
        "outputId": "c3570047-d5dc-4b33-f530-131af510a9c0"
      },
      "execution_count": null,
      "outputs": [
        {
          "output_type": "execute_result",
          "data": {
            "text/plain": [
              "tensor([[ 0.,  0.,  1.],\n",
              "        [ 0.,  4.,  6.],\n",
              "        [ 4., 12.,  9.]])"
            ]
          },
          "metadata": {},
          "execution_count": 2
        }
      ]
    },
    {
      "cell_type": "code",
      "source": [
        "X, K = X.reshape(1, 1, 2, 2), K.reshape(1, 1, 2, 2)\n",
        "tconv = nn.ConvTranspose2d(1, 1, kernel_size=2, bias=False)\n",
        "tconv.weight.data = K\n",
        "tconv(X)"
      ],
      "metadata": {
        "colab": {
          "base_uri": "https://localhost:8080/"
        },
        "id": "AxLylQShopv-",
        "outputId": "51ca65fd-ee12-45b4-a2b7-0859e0e51ad9"
      },
      "execution_count": null,
      "outputs": [
        {
          "output_type": "execute_result",
          "data": {
            "text/plain": [
              "tensor([[[[ 0.,  0.,  1.],\n",
              "          [ 0.,  4.,  6.],\n",
              "          [ 4., 12.,  9.]]]], grad_fn=<ConvolutionBackward0>)"
            ]
          },
          "metadata": {},
          "execution_count": 3
        }
      ]
    },
    {
      "cell_type": "code",
      "source": [
        "# Load the CIFAR-10 dataset and define transformations\n",
        "transform = transforms.Compose([transforms.ToTensor()])\n",
        "cifar_dataset = datasets.CIFAR10(root='./data', train=True, transform=transform, download=True)\n",
        "\n",
        "# Create DataLoader for training\n",
        "train_loader = torch.utils.data.DataLoader(cifar_dataset, batch_size=64, shuffle=True)"
      ],
      "metadata": {
        "colab": {
          "base_uri": "https://localhost:8080/"
        },
        "id": "-0qJMQG6o5JT",
        "outputId": "4ea04c48-7000-4d9a-ebf6-7e79de86ff4d"
      },
      "execution_count": 2,
      "outputs": [
        {
          "output_type": "stream",
          "name": "stdout",
          "text": [
            "Downloading https://www.cs.toronto.edu/~kriz/cifar-10-python.tar.gz to ./data/cifar-10-python.tar.gz\n"
          ]
        },
        {
          "output_type": "stream",
          "name": "stderr",
          "text": [
            "100%|██████████| 170498071/170498071 [00:12<00:00, 13592932.53it/s]\n"
          ]
        },
        {
          "output_type": "stream",
          "name": "stdout",
          "text": [
            "Extracting ./data/cifar-10-python.tar.gz to ./data\n"
          ]
        }
      ]
    },
    {
      "cell_type": "code",
      "execution_count": null,
      "metadata": {
        "colab": {
          "base_uri": "https://localhost:8080/"
        },
        "id": "HV7i1YVKax12",
        "outputId": "5be7ff15-51ea-49a5-d28e-109124565fa6"
      },
      "outputs": [
        {
          "output_type": "stream",
          "name": "stdout",
          "text": [
            "Epoch [1/10], Loss: 0.0038\n",
            "Epoch [2/10], Loss: 0.0037\n",
            "Epoch [3/10], Loss: 0.0036\n",
            "Epoch [4/10], Loss: 0.0034\n",
            "Epoch [5/10], Loss: 0.0028\n",
            "Epoch [6/10], Loss: 0.0025\n",
            "Epoch [7/10], Loss: 0.0030\n",
            "Epoch [8/10], Loss: 0.0026\n",
            "Epoch [9/10], Loss: 0.0025\n",
            "Epoch [10/10], Loss: 0.0027\n"
          ]
        }
      ],
      "source": [
        "class Autoencoder(nn.Module):\n",
        "    def __init__(self):\n",
        "        super(Autoencoder, self).__init__()\n",
        "        self.encoder = nn.Sequential(\n",
        "            nn.Conv2d(3, 32, kernel_size=3, padding=1),\n",
        "            nn.ReLU(),\n",
        "            nn.MaxPool2d(kernel_size=2, stride=2)\n",
        "        )\n",
        "        self.decoder = nn.Sequential(\n",
        "            nn.ConvTranspose2d(32, 3, kernel_size=2, stride=2)\n",
        "        )\n",
        "\n",
        "    def forward(self, x):\n",
        "        x = self.encoder(x)\n",
        "        x = self.decoder(x)\n",
        "        return x\n",
        "\n",
        "def add_gaussian_noise(image, mean=0, std=0.1):\n",
        "    noise = torch.randn(image.size()) * std + mean\n",
        "    noisy_image = image + noise\n",
        "    noisy_image = torch.clamp(noisy_image, 0, 1)  # Ensure values are in [0, 1]\n",
        "    return noisy_image\n",
        "\n",
        "# Create the autoencoder model and set up training\n",
        "autoencoder = Autoencoder()\n",
        "criterion = nn.MSELoss()\n",
        "optimizer = optim.Adam(autoencoder.parameters(), lr=0.001)\n",
        "\n",
        "# Training loop\n",
        "num_epochs = 10\n",
        "for epoch in range(num_epochs):\n",
        "    for data in train_loader:\n",
        "        inputs, _ = data\n",
        "        noisy_inputs = add_gaussian_noise(inputs)\n",
        "        optimizer.zero_grad()\n",
        "        outputs = autoencoder(noisy_inputs)\n",
        "        loss = criterion(outputs, inputs)\n",
        "        loss.backward()\n",
        "        optimizer.step()\n",
        "    print(f'Epoch [{epoch + 1}/{num_epochs}], Loss: {loss.item():.4f}')\n"
      ]
    },
    {
      "cell_type": "code",
      "source": [
        "def add_gaussian_noise(image, mean=0, std=0.1):\n",
        "    noise = torch.randn(image.size()) * std + mean\n",
        "    noisy_image = image + noise\n",
        "    noisy_image = torch.clamp(noisy_image, 0, 1)\n",
        "    return noisy_image\n",
        "\n",
        "def denoise_image(image):\n",
        "    autoencoder.eval()\n",
        "    with torch.no_grad():\n",
        "        denoised_image = autoencoder(image.unsqueeze(0)).squeeze(0)\n",
        "    return denoised_image\n",
        "\n",
        "\n",
        "sample_index = 1  # Change this to select a different image\n",
        "sample_image, _ = cifar_dataset[sample_index]\n",
        "noisy_image = add_gaussian_noise(sample_image)\n",
        "\n",
        "# Denoise the noisy image\n",
        "denoised_image = denoise_image(noisy_image)\n",
        "\n",
        "# Display the original, noisy, and denoised images\n",
        "plt.figure(figsize=(10, 3))\n",
        "plt.subplot(1, 3, 1)\n",
        "plt.title(\"Original Image\")\n",
        "plt.imshow(np.transpose(sample_image, (1, 2, 0)))\n",
        "plt.axis('off')\n",
        "\n",
        "plt.subplot(1, 3, 2)\n",
        "plt.title(\"Noisy Image\")\n",
        "plt.imshow(np.transpose(noisy_image, (1, 2, 0)))\n",
        "plt.axis('off')\n",
        "\n",
        "plt.subplot(1, 3, 3)\n",
        "plt.title(\"Denoised Image\")\n",
        "plt.imshow(np.transpose(denoised_image, (1, 2, 0)))\n",
        "plt.axis('off')\n",
        "\n",
        "plt.show()\n"
      ],
      "metadata": {
        "colab": {
          "base_uri": "https://localhost:8080/",
          "height": 305
        },
        "id": "e4ehVV0-pAHz",
        "outputId": "785e887b-3084-4168-d5e4-298761d0f61f"
      },
      "execution_count": null,
      "outputs": [
        {
          "output_type": "stream",
          "name": "stderr",
          "text": [
            "WARNING:matplotlib.image:Clipping input data to the valid range for imshow with RGB data ([0..1] for floats or [0..255] for integers).\n"
          ]
        },
        {
          "output_type": "display_data",
          "data": {
            "text/plain": [
              "<Figure size 1000x300 with 3 Axes>"
            ],
            "image/png": "[encoded data removed]"
          },
          "metadata": {}
        }
      ]
    },
    {
      "cell_type": "code",
      "source": [
        "from sklearn.decomposition import PCA\n",
        "from sklearn.preprocessing import StandardScaler\n",
        "\n",
        "#transform = transforms.Compose([transforms.ToTensor()])\n",
        "#cifar10 = torchvision.datasets.CIFAR10(root='./data', train=True, download=True, transform=transform)\n",
        "image, _ = cifar_dataset[1]\n",
        "image = image.numpy()\n",
        "\n",
        "image = image.mean(axis=0)  # Convert to grayscale\n",
        "image"
      ],
      "metadata": {
        "id": "dAiNDM23sQBk",
        "colab": {
          "base_uri": "https://localhost:8080/"
        },
        "outputId": "96fb4810-7012-4894-e69f-f2f20c2b155b"
      },
      "execution_count": 4,
      "outputs": [
        {
          "output_type": "execute_result",
          "data": {
            "text/plain": [
              "array([[0.6771242 , 0.5215686 , 0.39738563, ..., 0.33594772, 0.32418302,\n",
              "        0.3006536 ],\n",
              "       [0.6130719 , 0.5908497 , 0.48104575, ..., 0.35686275, 0.28627452,\n",
              "        0.26797387],\n",
              "       [0.59999996, 0.5673203 , 0.44705883, ..., 0.29411766, 0.2522876 ,\n",
              "        0.2496732 ],\n",
              "       ...,\n",
              "       [0.6640523 , 0.6143791 , 0.63267976, ..., 0.14640523, 0.22352941,\n",
              "        0.34901962],\n",
              "       [0.5843137 , 0.57254905, 0.6039216 , ..., 0.38169935, 0.46666667,\n",
              "        0.5006536 ],\n",
              "       [0.56339866, 0.55947715, 0.5908497 , ..., 0.5424837 , 0.5477125 ,\n",
              "        0.54901963]], dtype=float32)"
            ]
          },
          "metadata": {},
          "execution_count": 4
        }
      ]
    },
    {
      "cell_type": "code",
      "source": [
        "n_components = 2 # Adjust this value based on the desired compression level\n",
        "pca = PCA(n_components=n_components)\n",
        "image_pca = pca.fit_transform(image)"
      ],
      "metadata": {
        "id": "ECwK7a7z6rxC"
      },
      "execution_count": 5,
      "outputs": []
    },
    {
      "cell_type": "code",
      "source": [
        "inverse_image = pca.inverse_transform(image_pca)"
      ],
      "metadata": {
        "id": "LAroSwNKVMxl"
      },
      "execution_count": 6,
      "outputs": []
    },
    {
      "cell_type": "code",
      "source": [
        "plt.figure(figsize=(8, 4))\n",
        "plt.subplot(1, 2, 1)\n",
        "plt.title(\"Original Image\")\n",
        "plt.imshow(image)\n",
        "plt.axis('off')\n",
        "\n",
        "plt.subplot(1, 2, 2)\n",
        "plt.title(\"Inverse Image from PCA\")\n",
        "plt.imshow(inverse_image)\n",
        "plt.axis('off')"
      ],
      "metadata": {
        "colab": {
          "base_uri": "https://localhost:8080/",
          "height": 359
        },
        "id": "S-xpmNiRX2BZ",
        "outputId": "d1eb7093-f37d-419c-89a3-a4193e685d13"
      },
      "execution_count": 7,
      "outputs": [
        {
          "output_type": "execute_result",
          "data": {
            "text/plain": [
              "(-0.5, 31.5, 31.5, -0.5)"
            ]
          },
          "metadata": {},
          "execution_count": 7
        },
        {
          "output_type": "display_data",
          "data": {
            "text/plain": [
              "<Figure size 800x400 with 2 Axes>"
            ],
            "image/png": "[encoded data removed]"
          },
          "metadata": {}
        }
      ]
    },
    {
      "cell_type": "code",
      "source": [
        "# define the NN architecture\n",
        "class ConvAutoencoder(nn.Module):\n",
        "    def __init__(self):\n",
        "        super(ConvAutoencoder, self).__init__()\n",
        "        self.encoder = nn.Sequential(\n",
        "            nn.Conv2d(3, 16, 3, padding=1) ,\n",
        "            nn.ReLU(),\n",
        "            nn.MaxPool2d(kernel_size=2, stride=2),\n",
        "            nn.Conv2d(16, 4, 3, padding=1) ,\n",
        "            nn.ReLU(),\n",
        "            nn.MaxPool2d(2, 2)\n",
        "        )\n",
        "\n",
        "        self.decoder = nn.Sequential(\n",
        "            nn.ConvTranspose2d(4, 16, 2, stride=2),\n",
        "            nn.ReLU(),\n",
        "            nn.ConvTranspose2d(16, 3, 2, stride=2),\n",
        "            nn.Sigmoid()\n",
        "        )\n",
        "\n",
        "    def forward(self, x):\n",
        "\n",
        "        x = self.encoder(x)\n",
        "        x = self.decoder(x)\n",
        "\n",
        "        return x\n",
        "\n",
        "# initialize the NN\n",
        "model = ConvAutoencoder().to(device)"
      ],
      "metadata": {
        "id": "ZTe-a8lna-gZ"
      },
      "execution_count": 8,
      "outputs": []
    },
    {
      "cell_type": "code",
      "source": [
        "criterion = nn.BCELoss()\n",
        "\n",
        "# specify loss function\n",
        "optimizer = torch.optim.Adam(model.parameters(), lr=0.01)\n",
        "\n",
        "# number of epochs to train the model\n",
        "num_epochs = 20\n",
        "\n",
        "for epoch in range(1, num_epochs):\n",
        "  for images, _ in cifar_dataset:\n",
        "        optimizer.zero_grad()\n",
        "        images = images.to(device)\n",
        "        outputs = model(images)\n",
        "        loss = criterion(outputs, images)\n",
        "        loss.backward()\n",
        "        optimizer.step()\n",
        "  print(f'Epoch [{epoch}/{num_epochs}], Loss: {loss.item():.4f}')\n",
        ""
      ],
      "metadata": {
        "colab": {
          "base_uri": "https://localhost:8080/"
        },
        "id": "Y79WD5BIcGCZ",
        "outputId": "55865f57-8980-44bb-bea6-d2d0322a1818"
      },
      "execution_count": 13,
      "outputs": [
        {
          "output_type": "stream",
          "name": "stdout",
          "text": [
            "Epoch [1/20], Loss: 0.6003\n",
            "Epoch [2/20], Loss: 0.6000\n",
            "Epoch [3/20], Loss: 0.6007\n",
            "Epoch [4/20], Loss: 0.5997\n",
            "Epoch [5/20], Loss: 0.5989\n",
            "Epoch [6/20], Loss: 0.5990\n",
            "Epoch [7/20], Loss: 0.6000\n",
            "Epoch [8/20], Loss: 0.5998\n",
            "Epoch [9/20], Loss: 0.6005\n",
            "Epoch [10/20], Loss: 0.6008\n",
            "Epoch [11/20], Loss: 0.6008\n",
            "Epoch [12/20], Loss: 0.6003\n",
            "Epoch [13/20], Loss: 0.6004\n",
            "Epoch [14/20], Loss: 0.6003\n",
            "Epoch [15/20], Loss: 0.6005\n",
            "Epoch [16/20], Loss: 0.6010\n",
            "Epoch [17/20], Loss: 0.6008\n",
            "Epoch [18/20], Loss: 0.6006\n",
            "Epoch [19/20], Loss: 0.6012\n"
          ]
        }
      ]
    },
    {
      "cell_type": "code",
      "source": [
        "dataiter = iter(cifar_dataset)\n",
        "images, labels = next(dataiter)\n",
        "\n",
        "images = images.to(device)\n",
        "output = model(images)\n",
        "\n",
        "images = images.cpu().numpy()\n",
        "output = output.view(3, 32, 32)\n",
        "output = output.detach().cpu().numpy()\n",
        "\n",
        "plt.figure(figsize=(8, 4))\n",
        "plt.subplot(1, 2, 1)\n",
        "plt.title(\"Original Image\")\n",
        "plt.imshow(images[0])\n",
        "plt.axis('off')\n",
        "\n",
        "plt.subplot(1, 2, 2)\n",
        "plt.title(\"Inverse Image from Convolution AE\")\n",
        "plt.imshow(output[0])\n",
        "plt.axis('off')"
      ],
      "metadata": {
        "colab": {
          "base_uri": "https://localhost:8080/",
          "height": 359
        },
        "id": "XUbSfFQ8qH7A",
        "outputId": "38868b5b-22a3-40fa-c4d7-a4e4300c9ed6"
      },
      "execution_count": 27,
      "outputs": [
        {
          "output_type": "execute_result",
          "data": {
            "text/plain": [
              "(-0.5, 31.5, 31.5, -0.5)"
            ]
          },
          "metadata": {},
          "execution_count": 27
        },
        {
          "output_type": "display_data",
          "data": {
            "text/plain": [
              "<Figure size 800x400 with 2 Axes>"
            ],
            "image/png": "[encoded data removed]"
          },
          "metadata": {}
        }
      ]
    }
  ],
  "metadata": {
    "kernelspec": {
      "display_name": "Python 3",
      "name": "python3"
    },
    "language_info": {
      "codemirror_mode": {
        "name": "ipython",
        "version": 3
      },
      "file_extension": ".py",
      "mimetype": "text/x-python",
      "name": "python",
      "nbconvert_exporter": "python",
      "pygments_lexer": "ipython3",
      "version": "3.10.9"
    },
    "colab": {
      "provenance": [],
      "gpuType": "T4"
    },
    "accelerator": "GPU"
  },
  "nbformat": 4,
  "nbformat_minor": 0
}